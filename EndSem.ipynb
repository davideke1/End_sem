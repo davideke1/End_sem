{
  "nbformat": 4,
  "nbformat_minor": 0,
  "metadata": {
    "colab": {
      "name": "EndSem.ipynb",
      "provenance": [],
      "collapsed_sections": [],
      "authorship_tag": "ABX9TyM3aTp9rhoRolPOG3+svL+b",
      "include_colab_link": true
    },
    "kernelspec": {
      "name": "python3",
      "display_name": "Python 3"
    },
    "language_info": {
      "name": "python"
    }
  },
  "cells": [
    {
      "cell_type": "markdown",
      "metadata": {
        "id": "view-in-github",
        "colab_type": "text"
      },
      "source": [
        "<a href=\"https://colab.research.google.com/github/davideke1/End_sem/blob/master/EndSem.ipynb\" target=\"_parent\"><img src=\"https://colab.research.google.com/assets/colab-badge.svg\" alt=\"Open In Colab\"/></a>"
      ]
    },
    {
      "cell_type": "code",
      "execution_count": 24,
      "metadata": {
        "colab": {
          "base_uri": "https://localhost:8080/"
        },
        "id": "svkIZ_fRX288",
        "outputId": "27fd44f5-634c-46b3-8af3-022aa688abfa"
      },
      "outputs": [
        {
          "output_type": "stream",
          "name": "stdout",
          "text": [
            "PythoN CodE AnD ExamplE \n"
          ]
        }
      ],
      "source": [
        "#102\n",
        "def capitalize_first_last_letters(str1):\n",
        "    str1 = str1.title()\n",
        "    result = \"\"\n",
        "    for word in str1.split():\n",
        "        result += word[:-1] + word[-1].upper() + \" \"\n",
        "    return result\n",
        "print(capitalize_first_last_letters(\"python code and example\"))"
      ]
    },
    {
      "cell_type": "code",
      "source": [
        "text = \"python code and example\"\n",
        "text[-1]"
      ],
      "metadata": {
        "colab": {
          "base_uri": "https://localhost:8080/",
          "height": 36
        },
        "id": "J1jsFLCTflwv",
        "outputId": "243fcfdc-0da8-49cb-fc64-31215e69d6ee"
      },
      "execution_count": null,
      "outputs": [
        {
          "output_type": "execute_result",
          "data": {
            "text/plain": [
              "'e'"
            ],
            "application/vnd.google.colaboratory.intrinsic+json": {
              "type": "string"
            }
          },
          "metadata": {},
          "execution_count": 237
        }
      ]
    },
    {
      "cell_type": "code",
      "source": [
        "#101\n",
        "import re\n",
        "text = input(\"\")\n",
        "d = {'for':'4','you':'U'}\n",
        "x = re.sub('(you|for)', lambda m: d[m[0]], text)\n",
        "print(x)"
      ],
      "metadata": {
        "colab": {
          "base_uri": "https://localhost:8080/"
        },
        "id": "fcHB58m95HUK",
        "outputId": "8306d2c0-a9e9-476c-bc3a-0232c6bdb6ea"
      },
      "execution_count": 21,
      "outputs": [
        {
          "output_type": "stream",
          "name": "stdout",
          "text": [
            "youfor youfor\n",
            "U4 U4\n"
          ]
        }
      ]
    },
    {
      "cell_type": "code",
      "source": [
        "#100\n",
        "def recur_sum(n):\n",
        "   if n <= 1:\n",
        "       return n\n",
        "   else:\n",
        "       return n + recur_sum(n-1)\n",
        "num = 5\n",
        "if num < 0:\n",
        "   print(\"Enter a positive number\")\n",
        "else:\n",
        "   print(\"The sum is\",recur_sum(num))"
      ],
      "metadata": {
        "colab": {
          "base_uri": "https://localhost:8080/"
        },
        "id": "FT4n9YlA6LZT",
        "outputId": "8077b2f1-eae5-497e-e4e8-31772d7b80d3"
      },
      "execution_count": null,
      "outputs": [
        {
          "output_type": "stream",
          "name": "stdout",
          "text": [
            "The sum is 15\n"
          ]
        }
      ]
    },
    {
      "cell_type": "code",
      "source": [
        "#99\n",
        "def prime(a,b):\n",
        "  for i in range(a,b+1):\n",
        "    count = 0\n",
        "    for j in range(1,i+1):\n",
        "      if i % j == 0:\n",
        "        count +=1\n",
        "    if count == 2:\n",
        "      print(i, end=\" \")\n",
        "num_1 = int(input(\"Enter ---> \"))\n",
        "num_2 = int(input(\"Enter ---> \"))\n",
        "prime(num_1,num_2)"
      ],
      "metadata": {
        "colab": {
          "base_uri": "https://localhost:8080/"
        },
        "id": "pkdmHotN71wx",
        "outputId": "06961a07-fe23-4548-c5d0-c3ecdb67cf7a"
      },
      "execution_count": 18,
      "outputs": [
        {
          "output_type": "stream",
          "name": "stdout",
          "text": [
            "Enter ---> 1\n",
            "Enter ---> 10\n",
            "2 3 5 7 "
          ]
        }
      ]
    },
    {
      "cell_type": "code",
      "source": [
        "#98 Write a program to eliminate duplicate values in the list\n",
        "a = [10,20,30,20,10,50,60,40,80,50,40]\n",
        "unique_items = list()\n",
        "for x in a:\n",
        "    if x not in unique_items:\n",
        "        unique_items.append(x)\n",
        "print(unique_items)"
      ],
      "metadata": {
        "colab": {
          "base_uri": "https://localhost:8080/"
        },
        "id": "hB2QbLG49PL1",
        "outputId": "36ed6230-8d18-425e-c3f3-3c9775940370"
      },
      "execution_count": null,
      "outputs": [
        {
          "output_type": "stream",
          "name": "stdout",
          "text": [
            "[10, 20, 30, 50, 60, 40, 80]\n"
          ]
        }
      ]
    },
    {
      "cell_type": "code",
      "source": [
        "#97\n",
        "def product( x , y ):\n",
        "    if x < y:\n",
        "        return product(y, x)\n",
        "    elif y != 0:\n",
        "        return (x + product(x, y - 1))\n",
        "    else:\n",
        "        return 0\n",
        "x = 2\n",
        "y = 1\n",
        "print( product(x, y))"
      ],
      "metadata": {
        "colab": {
          "base_uri": "https://localhost:8080/"
        },
        "id": "YwAwWDYI-ZHS",
        "outputId": "2242349a-18d0-4116-afcc-5a0aacb9f49d"
      },
      "execution_count": null,
      "outputs": [
        {
          "output_type": "stream",
          "name": "stdout",
          "text": [
            "2\n"
          ]
        }
      ]
    },
    {
      "cell_type": "code",
      "source": [
        "#95\n",
        "# Function to find HCF the Using Euclidian algorithm\n",
        "def compute_hcf(x, y):\n",
        "   while(y):\n",
        "       x, y = y, x % y\n",
        "   return x\n",
        "\n",
        "hcf = compute_hcf(300, 195)\n",
        "print(\"The Largest square tile is\", hcf)"
      ],
      "metadata": {
        "colab": {
          "base_uri": "https://localhost:8080/"
        },
        "id": "nrfYk6sJ_9Mr",
        "outputId": "2687fe89-18e5-4eba-d969-944c83a698e9"
      },
      "execution_count": null,
      "outputs": [
        {
          "output_type": "stream",
          "name": "stdout",
          "text": [
            "The Largest square tile is 15\n"
          ]
        }
      ]
    },
    {
      "cell_type": "code",
      "source": [
        "#94\n",
        "def compute_hcf(x, y):\n",
        "   while(y):\n",
        "       x, y = y, x % y\n",
        "   return x\n",
        "\n",
        "hcf = compute_hcf(12, 15)\n",
        "print(\"The largest number of children per row\", hcf)"
      ],
      "metadata": {
        "colab": {
          "base_uri": "https://localhost:8080/"
        },
        "id": "IgEesB3lCEYa",
        "outputId": "8102385b-1437-4275-fea8-de2d424328a7"
      },
      "execution_count": null,
      "outputs": [
        {
          "output_type": "stream",
          "name": "stdout",
          "text": [
            "The largest number of children per row 3\n"
          ]
        }
      ]
    },
    {
      "cell_type": "code",
      "source": [
        "#93 Write program to Sort Tuples by Total digits\n",
        "def count_digs(tup):\n",
        "    return sum([len(str(i)) for i in tup ])\n",
        "test_list = eval(input(\"\"))\n",
        "print(\"The original list is : \" + str(test_list))\n",
        "test_list.sort(key = count_digs)\n",
        "print(\"Sorted tuples : \" + str(test_list))"
      ],
      "metadata": {
        "colab": {
          "base_uri": "https://localhost:8080/"
        },
        "id": "_FpiwohVCFYG",
        "outputId": "6547176d-0087-4887-801a-eca6ee6eb18c"
      },
      "execution_count": null,
      "outputs": [
        {
          "output_type": "stream",
          "name": "stdout",
          "text": [
            " [(3, 4, 6, 723), (1, 2), (12345,), (134, 234, 34)]\n",
            "The original list is : [(3, 4, 6, 723), (1, 2), (12345,), (134, 234, 34)]\n",
            "Sorted tuples : [(1, 2), (12345,), (3, 4, 6, 723), (134, 234, 34)]\n"
          ]
        }
      ]
    },
    {
      "cell_type": "code",
      "source": [
        "#92\n",
        "import re\n",
        "text = input(\"--> \")\n",
        "x = re.search('\\\\*.+\\\\*', text)\n",
        "y = x.start()\n",
        "z = x.end()\n",
        "print(\"%s\"%(text[y+1:z-1]))"
      ],
      "metadata": {
        "colab": {
          "base_uri": "https://localhost:8080/"
        },
        "id": "2_ZzOGCYE_py",
        "outputId": "728a7bcf-9888-40c3-af38-5339497de036"
      },
      "execution_count": null,
      "outputs": [
        {
          "output_type": "stream",
          "name": "stdout",
          "text": [
            "--> hello gitam it is a very *good* school\n",
            "good\n"
          ]
        }
      ]
    },
    {
      "cell_type": "code",
      "source": [
        "#91\n",
        "month_name = int(input(\"Input the Month number: \"))\n",
        "\n",
        "if month_name == 2:\n",
        "\tprint(\"No. of days: 28/29 days\")\n",
        "elif month_name in [6,9,4,11]:\n",
        "\tprint(\"No. of days: 30 days\")\n",
        "elif month_name in [1,3,5,7,8,10,12]:\n",
        "\tprint(\"No. of days: 31 day\")\n",
        "else:\n",
        "\tprint(\"Wrong month number\") "
      ],
      "metadata": {
        "colab": {
          "base_uri": "https://localhost:8080/"
        },
        "id": "O3rIxiCzGNSp",
        "outputId": "7a116825-f0d7-4016-d163-dabd34a6d351"
      },
      "execution_count": null,
      "outputs": [
        {
          "output_type": "stream",
          "name": "stdout",
          "text": [
            "Input the Month number: 3\n",
            "No. of days: 31 day\n"
          ]
        }
      ]
    },
    {
      "cell_type": "code",
      "source": [
        "#90\n",
        "def CornerElement(arr) :\n",
        "    # no. of rows\n",
        "    n = len(arr)\n",
        "    # no. of columns\n",
        "    m = len(arr[0])\n",
        "    # sum of corner elements\n",
        "    corner_sum = (arr[0][0] + arr[0][m - 1] +\n",
        "           arr[n - 1][0] + arr[n - 1][m - 1])\n",
        "    avg = corner_sum/4\n",
        "    return avg\n",
        "arr = [\n",
        "        [1,2,4],\n",
        "        [5,6,8],\n",
        "        [8,3,3],\n",
        "        ]\n",
        "print(\"The average of the corner element\", CornerElement(arr))"
      ],
      "metadata": {
        "colab": {
          "base_uri": "https://localhost:8080/"
        },
        "id": "m6eCAzb9IX41",
        "outputId": "81850da3-bed9-44b8-a691-199bd0d8999a"
      },
      "execution_count": null,
      "outputs": [
        {
          "output_type": "stream",
          "name": "stdout",
          "text": [
            "The average of the corner element 4.0\n"
          ]
        }
      ]
    },
    {
      "cell_type": "code",
      "source": [
        "#89\n",
        "ls = ['Arun','Swathi','Bharathi','Sai','Pallavi','Somu']\n",
        "def names_s(names):\n",
        "  l =[]\n",
        "  for i in names:\n",
        "    if i[0] == 'S':\n",
        "      l.append(i)\n",
        "  return l\n",
        "print(names_s(ls))"
      ],
      "metadata": {
        "colab": {
          "base_uri": "https://localhost:8080/"
        },
        "id": "gDmKOOnGJCV3",
        "outputId": "df5be8ac-0f39-4b11-b19f-73b2500fb6f2"
      },
      "execution_count": null,
      "outputs": [
        {
          "output_type": "stream",
          "name": "stdout",
          "text": [
            "['Swathi', 'Sai', 'Somu']\n"
          ]
        }
      ]
    },
    {
      "cell_type": "code",
      "source": [
        "#88\n",
        "n = int(input(\"Enter a number --> \"))\n",
        "print(f\"The fibonacci series up to {n} series\")\n",
        "\n",
        "def fib(x):\n",
        "    if(x ==1):\n",
        "        return 0\n",
        "    elif (x == 2):\n",
        "        return 1\n",
        "    else:\n",
        "        return (fib(x-1) + fib(x-2))\n",
        "\n",
        "for i in range(1,n+1):\n",
        "    fib(i)\n",
        "    print(fib(i), end =\" \")\n"
      ],
      "metadata": {
        "colab": {
          "base_uri": "https://localhost:8080/"
        },
        "id": "KA7lUKM8LDi_",
        "outputId": "e9f1056d-3d96-4c0a-aea2-8c428836bd5f"
      },
      "execution_count": null,
      "outputs": [
        {
          "output_type": "stream",
          "name": "stdout",
          "text": [
            "Enter a number --> 6\n",
            "The fibonacci series up to 6 series\n",
            "0 1 1 2 3 5 "
          ]
        }
      ]
    },
    {
      "cell_type": "code",
      "source": [
        "#87\n",
        "n = int(input(\"Enter a number --> \"))\n",
        "\n",
        "def fact(n):\n",
        "  if n == 1 or n == 0:\n",
        "    return 1\n",
        "  else:\n",
        "    return (n* fact(n-1))\n",
        "\n",
        "print(fact(n))"
      ],
      "metadata": {
        "colab": {
          "base_uri": "https://localhost:8080/"
        },
        "id": "z2Qq3kUhhndd",
        "outputId": "ad0df68f-912b-4ea4-8419-e7f13eb5031e"
      },
      "execution_count": null,
      "outputs": [
        {
          "output_type": "stream",
          "name": "stdout",
          "text": [
            "Enter a number --> 19\n",
            "121645100408832000\n"
          ]
        }
      ]
    },
    {
      "cell_type": "code",
      "source": [
        "#86\n",
        "a = eval(input())\n",
        "b = eval(input())\n",
        "c = eval(input())\n",
        "x = tuple(map(sum, zip(a,b,c)))\n",
        "print(x)"
      ],
      "metadata": {
        "colab": {
          "base_uri": "https://localhost:8080/"
        },
        "id": "ura0c5zCiNAL",
        "outputId": "622b5a7a-d94d-4397-934f-677e07de5cf7"
      },
      "execution_count": null,
      "outputs": [
        {
          "output_type": "stream",
          "name": "stdout",
          "text": [
            "(1,2,3,4)\n",
            "(1,3,4,6)\n",
            "(1,4,7,3)\n",
            "(3, 9, 14, 13)\n"
          ]
        }
      ]
    },
    {
      "cell_type": "code",
      "source": [
        "#85\n",
        "n = input(\"---> \")\n",
        "output = list()\n",
        "for i in n:\n",
        "  output.append(i)\n",
        "output = tuple(output)\n",
        "print(output)"
      ],
      "metadata": {
        "colab": {
          "base_uri": "https://localhost:8080/"
        },
        "id": "AIAP9AbsjWf-",
        "outputId": "27ea87be-bcad-4b7e-8f13-8c7d77b3bc48"
      },
      "execution_count": null,
      "outputs": [
        {
          "output_type": "stream",
          "name": "stdout",
          "text": [
            "---> python3.0\n",
            "('p', 'y', 't', 'h', 'o', 'n', '3', '.', '0')\n"
          ]
        }
      ]
    },
    {
      "cell_type": "code",
      "source": [
        "#84\n",
        "\n",
        "def count_upp_low(sen):\n",
        "  sen = sen.replace(\" \",\"\")\n",
        "  count_upp = 0\n",
        "  count_low = 0\n",
        "  for i in sen:\n",
        "    if i.isupper():\n",
        "      count_upp +=1\n",
        "    else:\n",
        "      count_low +=1\n",
        "  return (count_upp, count_low)\n",
        "n = input(\"--> \")\n",
        "x = count_upp_low(n)\n",
        "print(f\"No. of Upper case characters : {x[0]}\")\n",
        "print(f\"No. of Lower case characters : {x[1]}\")\n"
      ],
      "metadata": {
        "colab": {
          "base_uri": "https://localhost:8080/"
        },
        "id": "onTZ9rftksbm",
        "outputId": "6b9693a8-5ab9-4755-b705-88ce227b8050"
      },
      "execution_count": null,
      "outputs": [
        {
          "output_type": "stream",
          "name": "stdout",
          "text": [
            "--> The quick Brow Fox\n",
            "No. of Upper case characters : 3\n",
            "No. of Lower case characters : 12\n"
          ]
        }
      ]
    },
    {
      "cell_type": "code",
      "source": [
        "#83\n",
        "a = int(input(\"--> \"))\n",
        "b = int(input(\"--> \"))\n",
        "\n",
        "def swapping(x,y):\n",
        "  x = x - y\n",
        "  y = y + x\n",
        "  x = y - x\n",
        "  return x,y\n",
        "x = swapping(a,b)\n",
        "print(\"Before swapping\")\n",
        "print(f\"a -- {a}, b---{b}\")\n",
        "print(\"After swapping\")\n",
        "print(f\"a -- {x[0]}, b --{x[1]}\")"
      ],
      "metadata": {
        "colab": {
          "base_uri": "https://localhost:8080/"
        },
        "id": "NhwYNEMslik8",
        "outputId": "99258aba-d02e-4a98-e8fc-463dabd5da49"
      },
      "execution_count": null,
      "outputs": [
        {
          "output_type": "stream",
          "name": "stdout",
          "text": [
            "--> 10\n",
            "--> 5\n",
            "Before swapping\n",
            "a -- 10, b---5\n",
            "After swapping\n",
            "a -- 5, b --10\n"
          ]
        }
      ]
    },
    {
      "cell_type": "code",
      "source": [
        "#82"
      ],
      "metadata": {
        "id": "pgEpMebDod4z"
      },
      "execution_count": null,
      "outputs": []
    },
    {
      "cell_type": "code",
      "source": [
        "#81\n",
        "def max_len(x,y):\n",
        "  while(y):\n",
        "    x,y = y, x%y\n",
        "  return x\n",
        "\n",
        "len_1 = int(input(\"--> \"))\n",
        "len_2 = int(input(\"--> \"))\n",
        "x = max_len(len_1,len_2)\n",
        "print(f\"The max length of each piece {x}\")"
      ],
      "metadata": {
        "colab": {
          "base_uri": "https://localhost:8080/"
        },
        "id": "yonZDi9ypS8c",
        "outputId": "85664c81-bf88-4cc8-b534-b18963bb618f"
      },
      "execution_count": null,
      "outputs": [
        {
          "output_type": "stream",
          "name": "stdout",
          "text": [
            "--> 22\n",
            "--> 26\n",
            "The max length of each piece 2\n"
          ]
        }
      ]
    },
    {
      "cell_type": "code",
      "source": [
        "#80\n",
        "n = input(\"--> \")\n",
        "def ascii_value(x):\n",
        "  return ord(x)\n",
        "x = ascii_value(n)\n",
        "print(x)"
      ],
      "metadata": {
        "colab": {
          "base_uri": "https://localhost:8080/"
        },
        "id": "dGQ_4fwBp0Vl",
        "outputId": "e8722d5d-7f58-4b2c-9ed5-a3945e7b7e94"
      },
      "execution_count": null,
      "outputs": [
        {
          "output_type": "stream",
          "name": "stdout",
          "text": [
            "--> A\n",
            "65\n"
          ]
        }
      ]
    },
    {
      "cell_type": "code",
      "source": [
        "#79\n",
        "n = int(input(\"--> \"))\n",
        "l = []\n",
        "for i in range(1,n+1):\n",
        "  for j in range (0,i):\n",
        "    l.append(i)\n",
        "print(l)"
      ],
      "metadata": {
        "colab": {
          "base_uri": "https://localhost:8080/"
        },
        "id": "ygoo-93rq2D8",
        "outputId": "dbabbe0a-e1d6-498c-998d-bf651d539cbc"
      },
      "execution_count": 17,
      "outputs": [
        {
          "output_type": "stream",
          "name": "stdout",
          "text": [
            "--> 3\n",
            "[1, 2, 2, 3, 3, 3]\n"
          ]
        }
      ]
    },
    {
      "cell_type": "code",
      "source": [
        "1#78\n",
        "def comput_area(x,y):\n",
        "  while(y):\n",
        "    x,y = y, x%y\n",
        "  return x\n",
        "\n",
        "n_1 = int(input(\"--> \"))\n",
        "n_2 = int(input(\"--> \"))\n",
        "x = comput_area(n_1,n_2)\n",
        "print(f\"The no that can be placed in each set for this packing purpose {x}\")"
      ],
      "metadata": {
        "colab": {
          "base_uri": "https://localhost:8080/"
        },
        "id": "dxA155h5s3cI",
        "outputId": "2aa398d0-082f-450b-f9a3-4d715f42b66b"
      },
      "execution_count": null,
      "outputs": [
        {
          "output_type": "stream",
          "name": "stdout",
          "text": [
            "--> 420\n",
            "--> 130\n",
            "The no that can be placed in each set for this packing purpose 10\n"
          ]
        }
      ]
    },
    {
      "cell_type": "code",
      "source": [
        "#77\n",
        "f= open('Words.txt','w')\n",
        "f.writelines([\"Machine Learning\",\"\\nNeural Networks\",\"\\nPython Programming\"])\n",
        "f.close()\n",
        "f = open('sample3.txt','r')\n",
        "count = 0\n",
        "for i in f.readlines():\n",
        "  count +=1\n",
        "  print(f\"{count} \",i)"
      ],
      "metadata": {
        "colab": {
          "base_uri": "https://localhost:8080/"
        },
        "id": "4SA5BEVxvM0h",
        "outputId": "f68c7853-17d2-41d3-9d72-16a15d3199f4"
      },
      "execution_count": null,
      "outputs": [
        {
          "output_type": "stream",
          "name": "stdout",
          "text": [
            "1  Machine Learning\n",
            "\n",
            "2  Neural Networks\n",
            "\n",
            "3  Python Programming\n"
          ]
        }
      ]
    },
    {
      "cell_type": "code",
      "source": [
        "#75\n",
        "count_upp = 0\n",
        "f = open(\"Words.txt\",'r')\n",
        "for i in f.readlines():\n",
        "  for j in i:\n",
        "    if j.isupper():\n",
        "      count_upp +=1\n",
        "print(f\"Total no. of uppercase alphabets : {count_upp}\")"
      ],
      "metadata": {
        "colab": {
          "base_uri": "https://localhost:8080/"
        },
        "id": "TKQYJj8qwwF-",
        "outputId": "36526067-581e-4e00-87e9-0d11c9ca36d3"
      },
      "execution_count": null,
      "outputs": [
        {
          "output_type": "stream",
          "name": "stdout",
          "text": [
            "Total no. of uppercase alphabets : 6\n"
          ]
        }
      ]
    },
    {
      "cell_type": "code",
      "source": [
        "#74\n",
        "f= open('Words1.txt','w')\n",
        "f.writelines([\"Machine Learning\",\"\\nNeural Networks\",\"\\nPython Programming\"])\n",
        "f.close()\n",
        "longest_word = []\n",
        "f = open(\"Words.txt\",\"r\")\n",
        "s = f.read()\n",
        "words = s.split()\n",
        "max_len = len(max(words, key=len))\n",
        "for word in words:\n",
        "  if len(word)==max_len:\n",
        "    longest_word.append(word)\n",
        "print(longest_word)"
      ],
      "metadata": {
        "colab": {
          "base_uri": "https://localhost:8080/"
        },
        "id": "ENGpucI5ybwp",
        "outputId": "ff7b9db9-4866-414e-f092-7e908faa1672"
      },
      "execution_count": null,
      "outputs": [
        {
          "output_type": "stream",
          "name": "stdout",
          "text": [
            "['Programming']\n"
          ]
        }
      ]
    },
    {
      "cell_type": "code",
      "source": [
        "#71\n",
        "import pandas as pd\n",
        "data ={\n",
        "    \"col_1\":[1,4,3,4,5],\n",
        "    \"col_2\":[4,5,6,7,8],\n",
        "    \"col_3\":[7,8,9,0,1]\n",
        "}\n",
        "\n",
        "df = pd.DataFrame(data)\n",
        "df.drop(labels=[2,4], axis = 0, inplace = True)\n",
        "print(\"New DataFrame after removing 2nd & 4th rows:\")\n",
        "print(df)"
      ],
      "metadata": {
        "colab": {
          "base_uri": "https://localhost:8080/"
        },
        "id": "THPPPeLb1K1i",
        "outputId": "9f3650be-c90d-4957-b157-75122e6cd20d"
      },
      "execution_count": 14,
      "outputs": [
        {
          "output_type": "stream",
          "name": "stdout",
          "text": [
            "New DataFrame after removing 2nd & 4th rows:\n",
            "   col_1  col_2  col_3\n",
            "0      1      4      7\n",
            "1      4      5      8\n",
            "3      4      7      0\n"
          ]
        }
      ]
    },
    {
      "cell_type": "code",
      "source": [
        "#70\n",
        "import pandas as pd\n",
        "import numpy as np\n",
        "exam_data = eval(input(\"--> \"))\n",
        "df1 = pd.DataFrame(exam_data)\n",
        "df1 = df1.fillna(0)\n",
        "print(df1)"
      ],
      "metadata": {
        "colab": {
          "base_uri": "https://localhost:8080/"
        },
        "id": "rVRMhWHT2e07",
        "outputId": "d735dead-7762-4a86-9d10-2f3822e2b933"
      },
      "execution_count": 11,
      "outputs": [
        {
          "output_type": "stream",
          "name": "stdout",
          "text": [
            "--> {'name': ['Anastasia', 'Dima', 'Katherine', 'James', 'Emily', 'Michael', 'Matthew', 'Laura', 'Kevin', 'Jonas'], 'score': [12.5, 9, 16.5, np.nan, 9, 20, 14.5, np.nan, 8, 19], 'attempts': [1, 3, 2, 3, 2, 3, 1, 1, 2, 1], 'qualify': ['yes', 'no', 'yes', 'no', 'no', 'yes', 'yes', 'no', 'no', 'yes']}\n",
            "        name  score  attempts qualify\n",
            "0  Anastasia   12.5         1     yes\n",
            "1       Dima    9.0         3      no\n",
            "2  Katherine   16.5         2     yes\n",
            "3      James    0.0         3      no\n",
            "4      Emily    9.0         2      no\n",
            "5    Michael   20.0         3     yes\n",
            "6    Matthew   14.5         1     yes\n",
            "7      Laura    0.0         1      no\n",
            "8      Kevin    8.0         2      no\n",
            "9      Jonas   19.0         1     yes\n"
          ]
        }
      ]
    },
    {
      "cell_type": "code",
      "source": [
        "#68\n",
        "import pandas as pd\n",
        "exam_data = {'name': ['Anastasia', 'Dima', 'Katherine', 'James', 'Emily', 'Michael', 'Matthew',\n",
        "'Laura', 'Kevin', 'Jonas'],\n",
        "'score': [12.5, 9, 16.5, np.nan, 9, 20, 14.5, np.nan, 8, 19],\n",
        "'attempts': [1, 3, 2, 3, 2, 3, 1, 1, 2, 1],\n",
        "'qualify': ['yes', 'no', 'yes', 'no', 'no', 'yes', 'yes', 'no', 'no', 'yes']}\n",
        "labels = ['a', 'b', 'c', 'd', 'e', 'f', 'g', 'h', 'i', 'j']\n",
        "df2 = pd.DataFrame(exam_data, index = labels)\n",
        "print(df2[0:3])"
      ],
      "metadata": {
        "colab": {
          "base_uri": "https://localhost:8080/"
        },
        "id": "Yp0FPnHd3VQK",
        "outputId": "544c24fa-daf4-4f64-9c4a-3e4b1efb6284"
      },
      "execution_count": null,
      "outputs": [
        {
          "output_type": "stream",
          "name": "stdout",
          "text": [
            "        name  score  attempts qualify\n",
            "a  Anastasia   12.5         1     yes\n",
            "b       Dima    9.0         3      no\n",
            "c  Katherine   16.5         2     yes\n"
          ]
        }
      ]
    },
    {
      "cell_type": "code",
      "source": [
        "#67\n",
        "import pandas as pd\n",
        "data = {\n",
        "    101: 'Smith',\n",
        "    102: 'John',\n",
        "    103:'Peter'\n",
        "    }\n",
        "df3 = pd.Series(data)\n",
        "print(df3)"
      ],
      "metadata": {
        "colab": {
          "base_uri": "https://localhost:8080/"
        },
        "id": "_aGmgCpI33jU",
        "outputId": "70ad53e5-b49e-461b-db20-76b3af4b67cc"
      },
      "execution_count": 6,
      "outputs": [
        {
          "output_type": "stream",
          "name": "stdout",
          "text": [
            "101    Smith\n",
            "102     John\n",
            "103    Peter\n",
            "dtype: object\n"
          ]
        }
      ]
    },
    {
      "cell_type": "code",
      "source": [
        "#65\n",
        "f = open(\"Words.txt\", \"r\")\n",
        "x = f.read()\n",
        "words = x.replace(\" \", \"\")\n",
        "words = words.replace(\"\\n\", \"\")\n",
        "f.close()\n",
        "f = open(\"f1.txt\", 'w')\n",
        "f.write(words)\n",
        "f.close()\n",
        "f = open('f1.txt', 'r')\n",
        "x = f.read()\n",
        "print(x)\n",
        "f.close()"
      ],
      "metadata": {
        "colab": {
          "base_uri": "https://localhost:8080/"
        },
        "id": "FRgO9ee54VCv",
        "outputId": "90626d1f-9198-44fb-fe47-fb8edb4c5561"
      },
      "execution_count": null,
      "outputs": [
        {
          "output_type": "stream",
          "name": "stdout",
          "text": [
            "MachineLearningNeuralNetworksPythonProgramming\n"
          ]
        }
      ]
    },
    {
      "cell_type": "code",
      "source": [
        "#63\n",
        "f= open('Words2.txt','w')\n",
        "f.writelines([\"\"\"\n",
        "good morning\n",
        "welcome to\n",
        "class\"\"\"])\n",
        "f.close()\n",
        "f1 = open('reverse.txt', \"w\")\n",
        "f = open(\"Words2.txt\",\"r\")\n",
        "x = f.read()\n",
        "data = x[::-1]\n",
        "f1.write(data)\n",
        "f1.close()\n",
        "f.close()\n",
        "f = open('reverse.txt','r')\n",
        "x = f.read()\n",
        "print(x)\n",
        "f.close()"
      ],
      "metadata": {
        "colab": {
          "base_uri": "https://localhost:8080/"
        },
        "id": "Ku6oDGa46K44",
        "outputId": "57e46741-aaaa-4a61-d1f4-5ee4e30ee296"
      },
      "execution_count": 5,
      "outputs": [
        {
          "output_type": "stream",
          "name": "stdout",
          "text": [
            "ssalc\n",
            "ot emoclew\n",
            "gninrom doog\n",
            "\n"
          ]
        }
      ]
    },
    {
      "cell_type": "code",
      "source": [
        "#61\n",
        "f = open(\"Words.txt\",\"r\")\n",
        "x = f.read()\n",
        "data = x.upper()\n",
        "f.close()\n",
        "f = open('file2.txt', 'w')\n",
        "f.write(data)\n",
        "f.close()\n",
        "f = open(\"file2.txt\",\"r\")\n",
        "x = f.read()\n",
        "print(x)\n",
        "f.close()"
      ],
      "metadata": {
        "colab": {
          "base_uri": "https://localhost:8080/"
        },
        "id": "QFdGGkzkCxkP",
        "outputId": "1013ad0b-9e19-4f2d-d212-80fb16644f49"
      },
      "execution_count": null,
      "outputs": [
        {
          "output_type": "stream",
          "name": "stdout",
          "text": [
            "MACHINE LEARNING\n",
            "NEURAL NETWORKS\n",
            "PYTHON PROGRAMMING\n"
          ]
        }
      ]
    },
    {
      "cell_type": "code",
      "source": [
        "#59\n",
        "a = input(\"--> \")\n",
        "def ascii_values(y):\n",
        "  return ord(y)\n",
        "x = ascii_values(a)\n",
        "print(x)"
      ],
      "metadata": {
        "colab": {
          "base_uri": "https://localhost:8080/"
        },
        "id": "wtdsbA0XEfA1",
        "outputId": "cfd34ed8-c5ea-4578-f38d-bb295d23af97"
      },
      "execution_count": 3,
      "outputs": [
        {
          "output_type": "stream",
          "name": "stdout",
          "text": [
            "--> .\n",
            "46\n"
          ]
        }
      ]
    },
    {
      "cell_type": "code",
      "source": [
        "#58\n",
        "a = input(\"---> \")\n",
        "def no_of_words(s):\n",
        "  s = s.split()\n",
        "  return len(s)\n",
        "print(no_of_words(a))"
      ],
      "metadata": {
        "colab": {
          "base_uri": "https://localhost:8080/"
        },
        "id": "8UklQ2sFFORX",
        "outputId": "7134e364-76fd-42f9-a6da-d9b153dbd264"
      },
      "execution_count": null,
      "outputs": [
        {
          "output_type": "stream",
          "name": "stdout",
          "text": [
            "---> Hello my name is ekechukwu daviid\n",
            "6\n"
          ]
        }
      ]
    },
    {
      "cell_type": "code",
      "source": [
        "#58\n",
        "import re\n",
        "text = input(\"--> \")\n",
        "pattern = \"\\s\"\n",
        "x = len(re.split(pattern,text))\n",
        "print(x)"
      ],
      "metadata": {
        "colab": {
          "base_uri": "https://localhost:8080/"
        },
        "id": "ZThKVUmpP8XQ",
        "outputId": "fd2d7ec0-07f1-410b-dd95-090b17c42b45"
      },
      "execution_count": 2,
      "outputs": [
        {
          "output_type": "stream",
          "name": "stdout",
          "text": [
            "--> Hello my name is ekechukwu daviid\n",
            "6\n"
          ]
        }
      ]
    },
    {
      "cell_type": "code",
      "source": [
        "#57\n",
        "def gcd(x,y):\n",
        "  while (y):\n",
        "    x,y = y, x%y\n",
        "  return x\n",
        "a = int(input('--> '))\n",
        "b = int(input('--> '))\n",
        "print(gcd(a,b))"
      ],
      "metadata": {
        "colab": {
          "base_uri": "https://localhost:8080/"
        },
        "id": "sAsz3gdEF0v5",
        "outputId": "ebfe4890-e8b4-4482-e4ef-d9f1c5c3a733"
      },
      "execution_count": null,
      "outputs": [
        {
          "output_type": "stream",
          "name": "stdout",
          "text": [
            "--> 450\n",
            "--> 156\n",
            "6\n"
          ]
        }
      ]
    },
    {
      "cell_type": "code",
      "source": [
        "#56\n",
        "def F_to_C(x):\n",
        "  c = 5*(x-32)\n",
        "  return (c/9)\n",
        "a = int(input(\"--> \"))\n",
        "res = F_to_C(a)\n",
        "print(\"{:.2f}\".format(res))"
      ],
      "metadata": {
        "colab": {
          "base_uri": "https://localhost:8080/"
        },
        "id": "LvgCOPe4GNIq",
        "outputId": "6d588cc9-f256-48c2-ad90-30fa5550e8e4"
      },
      "execution_count": null,
      "outputs": [
        {
          "output_type": "stream",
          "name": "stdout",
          "text": [
            "--> 54\n",
            "12.22\n"
          ]
        }
      ]
    },
    {
      "cell_type": "code",
      "source": [
        "#54\n",
        "def KG_to_Pounds(x):\n",
        "  c = x * 2.204\n",
        "  return c\n",
        "a = int(input(\"--> \"))\n",
        "res = KG_to_Pounds(a)\n",
        "print(\"{:.2f}\".format(res))"
      ],
      "metadata": {
        "colab": {
          "base_uri": "https://localhost:8080/"
        },
        "id": "372UEWasG08A",
        "outputId": "e7b8bb35-314b-4582-a8b6-9c4389f04012"
      },
      "execution_count": null,
      "outputs": [
        {
          "output_type": "stream",
          "name": "stdout",
          "text": [
            "--> 10\n",
            "22.04\n"
          ]
        }
      ]
    },
    {
      "cell_type": "code",
      "source": [
        "#53\n",
        "import sqlite3\n",
        "con = sqlite3.connect('school.db')\n",
        "c = con.cursor()\n",
        "c.execute(\"\"\" CREATE TABLE student(\n",
        "  name text primary key,\n",
        "  id integer not null,\n",
        "  section text not null,\n",
        "  branch text not null,\n",
        "  marks integer not null\n",
        ")\n",
        "\"\"\")\n",
        "\n",
        "c.execute(\"INSERT INTO student values('Kiran',1,'ECE','CORE',98),('David',20,'ECE','CORE',98)\")\n",
        "x = c.execute(\"SELECT * FROM student\")\n",
        "print(\"Before deleting\")\n",
        "for i in x:\n",
        "  print(i)\n",
        "print(\"After deleting\")\n",
        "value = \"Kiran\"\n",
        "c.execute(\"DELETE FROM student where name = ?\", (value,))\n",
        "x = c.execute(\"SELECT * FROM student\")\n",
        "for i in x:\n",
        "  print(i)\n",
        "con.commit()\n",
        "con.close()"
      ],
      "metadata": {
        "colab": {
          "base_uri": "https://localhost:8080/"
        },
        "id": "GIJubBybHzkM",
        "outputId": "be41a096-cb27-4777-e8b0-9b5785fd3972"
      },
      "execution_count": null,
      "outputs": [
        {
          "output_type": "stream",
          "name": "stdout",
          "text": [
            "Before deleting\n",
            "('Kiran', 1, 'ECE', 'CORE', 98)\n",
            "('David', 20, 'ECE', 'CORE', 98)\n",
            "After deleting\n",
            "('David', 20, 'ECE', 'CORE', 98)\n"
          ]
        }
      ]
    },
    {
      "cell_type": "code",
      "source": [
        "#52\n",
        "con = sqlite3.connect('school.db')\n",
        "c = con.cursor()\n",
        "x = c.execute(\"SELECT * FROM student\")\n",
        "print(\"Before updating\")\n",
        "for i in x:\n",
        "  print(i)\n",
        "print(\"After updating\")\n",
        "id = 20\n",
        "marks = int(input(\"--> \"))\n",
        "c.execute(\"UPDATE student SET marks = ? where id = ?\", (marks,id))\n",
        "x = c.execute(\"SELECT * FROM student\")\n",
        "for i in x:\n",
        "  print(i)\n",
        "con.commit()\n",
        "con.close()"
      ],
      "metadata": {
        "colab": {
          "base_uri": "https://localhost:8080/"
        },
        "id": "WSNzGWyzKa0r",
        "outputId": "e85cc970-720f-4bbd-b01e-056a531e4f72"
      },
      "execution_count": null,
      "outputs": [
        {
          "output_type": "stream",
          "name": "stdout",
          "text": [
            "Before updating\n",
            "('David', 20, 'ECE', 'CORE', 50)\n",
            "After updating\n",
            "--> 20\n",
            "('David', 20, 'ECE', 'CORE', 20)\n"
          ]
        }
      ]
    },
    {
      "cell_type": "code",
      "source": [
        "x = c.execute(\"SELECT * FROM student\")\n",
        "for i in x:\n",
        "  print(i)"
      ],
      "metadata": {
        "colab": {
          "base_uri": "https://localhost:8080/"
        },
        "id": "d2QtovAWQKgi",
        "outputId": "d9dc4b08-1e5d-4cd2-a2c3-4be4aa68c473"
      },
      "execution_count": null,
      "outputs": [
        {
          "output_type": "stream",
          "name": "stdout",
          "text": [
            "('David', 20, 'ECE', 'CORE', 20)\n",
            "('Joseph', 20, 'ECE', 'CORE', 60)\n",
            "('Ardone', 10, 'ECE', 'CORE', 70)\n",
            "('Pakam', 40, 'ECE', 'CORE', 50)\n",
            "('Peter', 50, 'ECE', 'CORE', 90)\n"
          ]
        }
      ]
    },
    {
      "cell_type": "code",
      "source": [
        "con = sqlite3.connect('school.db')\n",
        "c = con.cursor()\n",
        "info = [\n",
        "        ('Joseph',20,'ECE','CORE',60),\n",
        "        ('Ardone',10,'ECE','CORE',70),\n",
        "        ('Pakam',40,'ECE','CORE',50),\n",
        "        ('Peter',50,'ECE','CORE',90)\n",
        "]\n",
        "c.executemany(\"INSERT INTO student values(?,?,?,?,?)\", info)"
      ],
      "metadata": {
        "colab": {
          "base_uri": "https://localhost:8080/"
        },
        "id": "x9XgLlHsLDsd",
        "outputId": "e93e5d7f-3045-47d3-e3ee-8b237b754d17"
      },
      "execution_count": null,
      "outputs": [
        {
          "output_type": "execute_result",
          "data": {
            "text/plain": [
              "<sqlite3.Cursor at 0x7f41dbc3ae30>"
            ]
          },
          "metadata": {},
          "execution_count": 175
        }
      ]
    },
    {
      "cell_type": "code",
      "source": [
        "#45\n",
        "x = c.execute(\"\"\"SELECT SUM(marks)  As sum_marks,\n",
        " AVG(marks) as avg_marks,\n",
        " MAX(marks) as max_marks,\n",
        " MIN(marks) as min_marks  FROM student\n",
        " \"\"\")\n",
        "for i in x:\n",
        "  print(f\"\"\"The average mark = {i[1]}\n",
        "The sum of marks = {i[0]}\n",
        "The max of marks = {i[2]}\n",
        "The sum of marks = {i[3]}\"\"\")"
      ],
      "metadata": {
        "colab": {
          "base_uri": "https://localhost:8080/"
        },
        "id": "j8rslDrCPWBD",
        "outputId": "9f327ba6-7b08-4363-b5f3-0019cba9ab8e"
      },
      "execution_count": null,
      "outputs": [
        {
          "output_type": "stream",
          "name": "stdout",
          "text": [
            "The average mark = 58.0\n",
            "The sum of marks = 290\n",
            "The max of marks = 90\n",
            "The sum of marks = 20\n"
          ]
        }
      ]
    },
    {
      "cell_type": "code",
      "source": [
        "#43\n",
        "import re\n",
        "#text = input(\"\")\n",
        "text = 'Python Programming'\n",
        "pattern = 'Python'\n",
        "x = re.match(pattern,text)\n",
        "print(x)\n"
      ],
      "metadata": {
        "colab": {
          "base_uri": "https://localhost:8080/"
        },
        "id": "QI916JoEPvOD",
        "outputId": "49dbb9ad-6a99-4919-bee9-2d727de5d450"
      },
      "execution_count": null,
      "outputs": [
        {
          "output_type": "stream",
          "name": "stdout",
          "text": [
            "<re.Match object; span=(0, 6), match='Python'>\n"
          ]
        }
      ]
    },
    {
      "cell_type": "code",
      "source": [
        "#34\n",
        "d={ 1:10, 2:20, 3:30 }\n",
        "def values_sum(x):\n",
        "  return sum(x.values())\n",
        "x = values_sum(d)\n",
        "print(\"output:\",x)"
      ],
      "metadata": {
        "colab": {
          "base_uri": "https://localhost:8080/"
        },
        "id": "prP4A2BOSjmt",
        "outputId": "f17fb723-e7bd-455e-910b-74233becd9fe"
      },
      "execution_count": null,
      "outputs": [
        {
          "output_type": "stream",
          "name": "stdout",
          "text": [
            "output: 60\n"
          ]
        }
      ]
    },
    {
      "cell_type": "code",
      "source": [
        "#9\n",
        "f = open('Words.txt', 'a')\n",
        "data =  [\"\"\"\n",
        "This is QUIZ3\n",
        "Examination\n",
        "Of python programming\n",
        "\"\"\"]\n",
        "f.writelines(data)\n",
        "f.close()\n",
        "f = open('Words.txt', 'r')\n",
        "x = f.read()\n",
        "print(x)\n",
        "f.close()"
      ],
      "metadata": {
        "colab": {
          "base_uri": "https://localhost:8080/"
        },
        "id": "XbAN-tpIWSC4",
        "outputId": "6311bef1-def2-488c-a224-daa0225a7bd9"
      },
      "execution_count": null,
      "outputs": [
        {
          "output_type": "stream",
          "name": "stdout",
          "text": [
            "Machine Learning\n",
            "Neural Networks\n",
            "Python Programming\n",
            "This is QUIZ3\n",
            "Examination\n",
            "Of python programming\n",
            "\n"
          ]
        }
      ]
    },
    {
      "cell_type": "code",
      "source": [
        " #7. Draw a graph to find no of people fall under a given range of age groups\n",
        "# input- list of age ranges\n",
        "# Table of contents (name , age, phone no)\n",
        "import pandas as pd\n",
        "import matplotlib.pyplot as plt\n",
        "df = pd.DataFrame({'name':['pranay','revanth','venkat','vivek','balasai'],'age':[18,20,18,18,19],'phone no':[12345,12346,12347,12348,12345]})\n",
        "plt.hist(df['age'],align='left')\n",
        "plt.show()"
      ],
      "metadata": {
        "colab": {
          "base_uri": "https://localhost:8080/",
          "height": 265
        },
        "id": "3k7fo7DMZPz8",
        "outputId": "35ccf3b7-944d-4c0c-adca-9c065bf676fb"
      },
      "execution_count": null,
      "outputs": [
        {
          "output_type": "display_data",
          "data": {
            "text/plain": [
              "<Figure size 432x288 with 1 Axes>"
            ],
            "image/png": "[encoded data removed]"
          },
          "metadata": {
            "needs_background": "light"
          }
        }
      ]
    },
    {
      "cell_type": "code",
      "source": [
        "#10\n",
        "import pandas as pd\n",
        "df1 = pd.read_csv(\"filepath\")\n",
        "cgp = df1['cgpa'].tolist()\n",
        "count = 0\n",
        "for i in cgp:\n",
        "  if i>=9:\n",
        "    count += 1\n",
        "print(count)"
      ],
      "metadata": {
        "colab": {
          "base_uri": "https://localhost:8080/"
        },
        "id": "rmti8ncFZ6Aa",
        "outputId": "a6f96012-4430-45de-e2b4-f77b3ff9b979"
      },
      "execution_count": null,
      "outputs": [
        {
          "output_type": "stream",
          "name": "stdout",
          "text": [
            "4\n"
          ]
        }
      ]
    },
    {
      "cell_type": "code",
      "source": [
        "#11\n",
        "import pandas as pd\n",
        "d = pd.read_csv(\"/content/aaaaaa.csv\")\n",
        "max_sal = d['salary'].max()\n",
        "print(f\"The max salary = {max_sal}\")"
      ],
      "metadata": {
        "colab": {
          "base_uri": "https://localhost:8080/"
        },
        "id": "zEdQNJ1GbI9g",
        "outputId": "4c9c6515-a2b4-4052-cb3f-eec2f153e5bf"
      },
      "execution_count": null,
      "outputs": [
        {
          "output_type": "stream",
          "name": "stdout",
          "text": [
            "The max salary = 6000\n"
          ]
        }
      ]
    },
    {
      "cell_type": "code",
      "source": [
        "#12\n",
        "import pandas as pd\n",
        "d = pd.read_csv(\"/content/aaaaaa.csv\")\n",
        "max_sal = d['salary'].min()\n",
        "print(f\"The min salary = {max_sal}\")"
      ],
      "metadata": {
        "colab": {
          "base_uri": "https://localhost:8080/"
        },
        "id": "nZHY4akAbNw8",
        "outputId": "fc101e0c-4358-4648-a74f-347cb7425ef4"
      },
      "execution_count": null,
      "outputs": [
        {
          "output_type": "stream",
          "name": "stdout",
          "text": [
            "The max salary = 1000\n"
          ]
        }
      ]
    },
    {
      "cell_type": "code",
      "source": [
        "#13\n",
        "f = open(\"Words.txt\", 'r')\n",
        "count_lines = 0\n",
        "for i in f.readlines():\n",
        "  count_lines += 1\n",
        "print(f\"The no of lines in the text = {count_lines}\")\n",
        "f.close()"
      ],
      "metadata": {
        "colab": {
          "base_uri": "https://localhost:8080/"
        },
        "id": "HpMUp_qdczQI",
        "outputId": "e9ae399a-2b75-4176-ff6e-56f0d0158725"
      },
      "execution_count": null,
      "outputs": [
        {
          "output_type": "stream",
          "name": "stdout",
          "text": [
            "The no of lines in the text = 6\n"
          ]
        }
      ]
    },
    {
      "cell_type": "code",
      "source": [
        "#14\n",
        "f = open(\"Words.txt\", 'r')\n",
        "count_words = 0\n",
        "for i in f.readlines():\n",
        "  j = i.split()\n",
        "  count_words += len(j)\n",
        "print(f\"The no of word in the text = {count_words}\")\n",
        "f.close()"
      ],
      "metadata": {
        "colab": {
          "base_uri": "https://localhost:8080/"
        },
        "id": "v71sv8u1cPbR",
        "outputId": "3c7565c2-44e1-459f-f54a-179ade9a8e0f"
      },
      "execution_count": null,
      "outputs": [
        {
          "output_type": "stream",
          "name": "stdout",
          "text": [
            "The no of word in the text = 13\n"
          ]
        }
      ]
    },
    {
      "cell_type": "code",
      "source": [
        "#25\n",
        "n = 5\n",
        "f = open(\"name.txt\", 'w')\n",
        "f.close()\n",
        "f = open(\"name.txt\", 'a')\n",
        "for i in range(n):\n",
        "  name = input(\"--> \")\n",
        "  f.write(name+'\\n')\n",
        "f.close()\n",
        "f = open(\"name.txt\", 'r')\n",
        "x  = f.read()\n",
        "print(x)\n",
        "f.close()"
      ],
      "metadata": {
        "colab": {
          "base_uri": "https://localhost:8080/"
        },
        "id": "Bopg6tYVlqiI",
        "outputId": "75a06ab7-f7a9-4b48-f02e-9b7e454f3f6c"
      },
      "execution_count": null,
      "outputs": [
        {
          "output_type": "stream",
          "name": "stdout",
          "text": [
            "--> richard\n",
            "--> timothy\n",
            "--> john\n",
            "--> ardone\n",
            "--> david\n",
            "richard\n",
            "timothy\n",
            "john\n",
            "ardone\n",
            "david\n",
            "\n"
          ]
        }
      ]
    },
    {
      "cell_type": "code",
      "source": [
        "#27\n",
        "n = int(input(\"Enter number of lines you want ---> \"))\n",
        "a=[\"how is your day going\",\"\\nCurtains forcing their will\",\n",
        "   \"\\nagainst the wind,\",\"\\nchildren sleep,\",\"\\nexchanging dreams with\",\n",
        "   \"\\nseraphim. The city\",\"\\ndrags itself awake on\",\"\\nsubway straps; and\",\n",
        "   \"\\nI, an alarm, awake as a boy.\"]\n",
        "f = open(\"file10.txt\",\"w\")\n",
        "f.writelines(a)\n",
        "f.close()\n",
        "count = 0\n",
        "f = open(\"file10.txt\",\"r\")\n",
        "for i in f.readlines():\n",
        "    count += 1\n",
        "    print(i)\n",
        "    if count == n:\n",
        "        break\n",
        "f.close()"
      ],
      "metadata": {
        "colab": {
          "base_uri": "https://localhost:8080/"
        },
        "id": "abSUinuGk4KX",
        "outputId": "6d488e55-e4fc-438f-e87d-4fceb51f2b38"
      },
      "execution_count": null,
      "outputs": [
        {
          "output_type": "stream",
          "name": "stdout",
          "text": [
            "Enter number of lines you want ---> 5\n",
            "how is your day going\n",
            "\n",
            "Curtains forcing their will\n",
            "\n",
            "against the wind,\n",
            "\n",
            "children sleep,\n",
            "\n",
            "exchanging dreams with\n",
            "\n"
          ]
        }
      ]
    },
    {
      "cell_type": "code",
      "source": [
        "#30\n",
        "d1 = {'India': 'Delhi',\n",
        "      'Canada': 'Ottawa',\n",
        "      'United States': 'Washington D. C.'}\n",
        "d2 = {'France': 'Paris',\n",
        "      'Malaysia': 'Kuala Lumpur'}\n",
        "\n",
        "d3 = d1.copy()\n",
        "for key,value in d2.items():\n",
        "  d3[key]= value\n",
        "print(d3)"
      ],
      "metadata": {
        "colab": {
          "base_uri": "https://localhost:8080/"
        },
        "id": "HNwnrXv8lBpv",
        "outputId": "b8c1f0ed-0e6c-4cdb-f82e-87059b5b7a69"
      },
      "execution_count": null,
      "outputs": [
        {
          "output_type": "stream",
          "name": "stdout",
          "text": [
            "{'India': 'Delhi', 'Canada': 'Ottawa', 'United States': 'Washington D. C.', 'France': 'Paris', 'Malaysia': 'Kuala Lumpur'}\n"
          ]
        }
      ]
    },
    {
      "cell_type": "code",
      "source": [
        "# 6\n",
        "import matplotlib.pyplot as plt\n",
        "import numpy as np\n",
        "\n",
        "x = [1,2,3,4,5]\n",
        "rice = np.random.randint(10,50,5)\n",
        "beans = np.random.randint(10,50,5)\n",
        "plt.bar([a-0.25 for a in x], rice, width=0.25, label='rice', align='edge')\n",
        "plt.bar([a+0.25 for a in x], rice, width=0-.25, label='beans', align='edge')\n",
        "plt.legend()\n",
        "plt.xlabel(\"Months\")\n",
        "plt.ylabel(\"Sales\")\n",
        "plt.title(\"Number of Sales in each group\")\n",
        "plt.show()"
      ],
      "metadata": {
        "colab": {
          "base_uri": "https://localhost:8080/",
          "height": 295
        },
        "id": "V2l2XocJnZoi",
        "outputId": "28387932-31f9-450e-eba6-3fa14bfd9695"
      },
      "execution_count": null,
      "outputs": [
        {
          "output_type": "display_data",
          "data": {
            "text/plain": [
              "<Figure size 432x288 with 1 Axes>"
            ],
            "image/png": "[encoded data removed]"
          },
          "metadata": {
            "needs_background": "light"
          }
        }
      ]
    },
    {
      "cell_type": "code",
      "source": [
        "#8\n",
        "import matplotlib.pyplot as plt\n",
        "import numpy as np\n",
        "\n",
        "x = [1,2,3,4,5]\n",
        "rice = np.random.randint(10,20,5)\n",
        "gold= np.random.randint(10,20,5)\n",
        "pasta= np.random.randint(10,20,5)\n",
        "plt.stackplot(x,rice,gold,pasta,labels=['rice','gold','pasta'])\n",
        "plt.xticks(x)\n",
        "plt.legend()\n",
        "plt.show()"
      ],
      "metadata": {
        "colab": {
          "base_uri": "https://localhost:8080/",
          "height": 265
        },
        "id": "u05KPUEsx0Ck",
        "outputId": "9bc524f7-5e6c-4f77-bd51-8ff29dd684ca"
      },
      "execution_count": null,
      "outputs": [
        {
          "output_type": "display_data",
          "data": {
            "text/plain": [
              "<Figure size 432x288 with 1 Axes>"
            ],
            "image/png": "[encoded data removed]"
          },
          "metadata": {
            "needs_background": "light"
          }
        }
      ]
    },
    {
      "cell_type": "code",
      "source": [
        "#15\n",
        "import re\n",
        "def words_four(word):\n",
        "  res = ''\n",
        "  x = re.findall('\\w{0,4}',word)\n",
        "  print(x)\n",
        "  for i in x:\n",
        "    res = res+ i+ \" \"\n",
        "  print(res)\n",
        "\n",
        "words_four(\"the goat of the umbrella is a cathode of the anode\")\n"
      ],
      "metadata": {
        "colab": {
          "base_uri": "https://localhost:8080/"
        },
        "id": "nPdXm7S72uKt",
        "outputId": "f977e4fb-9228-47ba-dd68-b90389c267f2"
      },
      "execution_count": 25,
      "outputs": [
        {
          "output_type": "stream",
          "name": "stdout",
          "text": [
            "['the', '', 'goat', '', 'of', '', 'the', '', 'umbr', 'ella', '', 'is', '', 'a', '', 'cath', 'ode', '', 'of', '', 'the', '', 'anod', 'e', '']\n",
            "the  goat  of  the  umbr ella  is  a  cath ode  of  the  anod e  \n"
          ]
        }
      ]
    },
    {
      "cell_type": "code",
      "source": [
        "#19\n",
        "import re\n",
        "def capitalize_first_letter(a):\n",
        "  return a.group(1) + a.group(2).upper()\n",
        "s = \"python is best programming language\"\n",
        "x = re.sub('(^|\\s)(\\S)', capitalize_first_letter,s)\n",
        "print(x)"
      ],
      "metadata": {
        "colab": {
          "base_uri": "https://localhost:8080/"
        },
        "id": "nXt9fwBeAI3-",
        "outputId": "237ff7fe-bc89-4afa-86d3-4f7655b05571"
      },
      "execution_count": null,
      "outputs": [
        {
          "output_type": "stream",
          "name": "stdout",
          "text": [
            "Python Is Best Programming Language\n"
          ]
        }
      ]
    },
    {
      "cell_type": "code",
      "source": [
        "#28\n",
        "dic = eval(input(\"--> \"))\n",
        "f = open(\"dic.txt\", 'w')\n",
        "for key,value in dic.items():\n",
        "  f.write('%s:%s\\n' %(key,value))\n",
        "f.close()\n",
        "f = open('dic.txt','r')\n",
        "x = f.read()\n",
        "print(x)\n",
        "f.close()"
      ],
      "metadata": {
        "colab": {
          "base_uri": "https://localhost:8080/"
        },
        "id": "3rSscRyUHtRC",
        "outputId": "178ad4aa-1997-4b2c-b985-99d525cfbb8c"
      },
      "execution_count": null,
      "outputs": [
        {
          "output_type": "stream",
          "name": "stdout",
          "text": [
            "--> {'Name': 'Alice', 'Age': 21, 'Degree': 'Bachelor Cse', 'University': 'Northeastern Univ'}\n",
            "Name:Alice\n",
            "Age:21\n",
            "Degree:Bachelor Cse\n",
            "University:Northeastern Univ\n",
            "\n"
          ]
        }
      ]
    },
    {
      "cell_type": "code",
      "source": [
        "#31\n",
        "N = int(input(\"--> \"))\n",
        "dic= {}\n",
        "for i in range(1,N+1):\n",
        "  dic[i] = i**2\n",
        "print(dic)"
      ],
      "metadata": {
        "colab": {
          "base_uri": "https://localhost:8080/"
        },
        "id": "EToIyatVJbZ9",
        "outputId": "284bf572-744d-483d-ede5-62755cf8dab7"
      },
      "execution_count": null,
      "outputs": [
        {
          "output_type": "stream",
          "name": "stdout",
          "text": [
            "--> 5\n",
            "{1: 1, 2: 4, 3: 9, 4: 16, 5: 25}\n"
          ]
        }
      ]
    },
    {
      "cell_type": "code",
      "source": [
        "#41\n",
        "import re\n",
        "text = input(\"--> \")\n",
        "l = []\n",
        "pattern= '\\D+'\n",
        "x = re.split(pattern, text)\n",
        "for i in x:\n",
        "  if i == '':\n",
        "    continue\n",
        "  else:\n",
        "    l.append(i)\n",
        "print(f\"Output: {l[0]} {l[1]} {l[2]}\")"
      ],
      "metadata": {
        "colab": {
          "base_uri": "https://localhost:8080/"
        },
        "id": "dHyDQhXdNS5F",
        "outputId": "515fc46a-e2d7-4273-8ad7-1bb8b656aaeb"
      },
      "execution_count": null,
      "outputs": [
        {
          "output_type": "stream",
          "name": "stdout",
          "text": [
            "--> Ten 10, Twenty 20, Thirty 30\n",
            "Output: 10 20 30\n"
          ]
        }
      ]
    },
    {
      "cell_type": "code",
      "source": [
        "#7"
      ],
      "metadata": {
        "id": "rSFucGjOxIlK"
      },
      "execution_count": null,
      "outputs": []
    }
  ]
}